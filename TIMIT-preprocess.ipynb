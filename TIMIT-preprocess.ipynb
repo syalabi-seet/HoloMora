{
 "cells": [
  {
   "cell_type": "code",
   "execution_count": 1,
   "source": [
    "import os\r\n",
    "import re\r\n",
    "import glob\r\n",
    "import json\r\n",
    "import subprocess\r\n",
    "import soundfile as sf\r\n",
    "import argparse\r\n",
    "\r\n",
    "import pandas as pd\r\n",
    "import numpy as np\r\n",
    "import librosa\r\n",
    "import scipy.io.wavfile\r\n",
    "from tqdm.notebook import tqdm\r\n",
    "import matplotlib.pyplot as plt\r\n",
    "import seaborn as sns\r\n",
    "from collections import Counter\r\n",
    "from functools import partial\r\n",
    "\r\n",
    "from sklearn.model_selection import StratifiedKFold, train_test_split\r\n",
    "\r\n",
    "import tensorflow as tf\r\n",
    "import tensorflow_io as tfio\r\n",
    "\r\n",
    "from tensorflow.keras import Model, Sequential\r\n",
    "from tensorflow.keras.layers import *\r\n",
    "from tensorflow.keras.utils import plot_model\r\n",
    "\r\n",
    "os.environ[\"CUDA_VISIBLE_DEVICES\"] = '0'\r\n",
    "\r\n",
    "main_dir = r\"Datasets\\TIMIT-dataset\\data\""
   ],
   "outputs": [],
   "metadata": {}
  },
  {
   "cell_type": "markdown",
   "source": [
    "# Preprocessing"
   ],
   "metadata": {}
  },
  {
   "cell_type": "code",
   "execution_count": 2,
   "source": [
    "# wav_paths = [path for path in glob.glob(main_dir + \"/*/*/*.wav\") \r\n",
    "#     if not (path.endswith(\"_1.wav\") or path.endswith(\"_2.wav\"))]\r\n",
    "# frames = [len(librosa.load(wav_path, sr=16000)[0]) for wav_path in wav_paths]\r\n",
    "# print(\"Max frames:\", np.max(frames))\r\n",
    "\r\n",
    "# plt.figure(figsize=(10,4))\r\n",
    "# sns.histplot(data=frames)\r\n",
    "# plt.axvline(x=np.mean(frames), color='red')\r\n",
    "# plt.xlabel(\"Number of frames per sample\")\r\n",
    "# plt.show()"
   ],
   "outputs": [],
   "metadata": {}
  },
  {
   "cell_type": "markdown",
   "source": [
    "## Split"
   ],
   "metadata": {}
  },
  {
   "cell_type": "code",
   "execution_count": 3,
   "source": [
    "# cutoff_limit = 67200\r\n",
    "# outlier, split_files, frames = [], [], []\r\n",
    "# for wav_path in tqdm(wav_paths, desc='Split'):\r\n",
    "#     y = librosa.load(wav_path, sr=16000)[0]\r\n",
    "#     n_frames = len(y)\r\n",
    "#     frames.append(n_frames)\r\n",
    "#     if n_frames >= cutoff_limit:\r\n",
    "#         phn_path = wav_path.replace(\"wav\", \"phn\")\r\n",
    "#         lines = open(phn_path, \"r\").readlines()\r\n",
    "#         end = np.array([int(line.split()[1]) for line in lines])\r\n",
    "#         try: \r\n",
    "#             idx = np.where(end < n_frames//2)[0][-1]\r\n",
    "#             lines_1 = lines[:idx]\r\n",
    "#             lines_2 = lines[idx:]\r\n",
    "#             factor = int(lines_2[0].split()[0])\r\n",
    "#             for i, line in enumerate(lines_2):\r\n",
    "#                 start, end, phoneme = line.split()\r\n",
    "#                 start = int(start) - factor\r\n",
    "#                 end = int(end) - factor\r\n",
    "#                 line = \" \".join([str(start), str(end), phoneme + \"\\n\"])\r\n",
    "#                 lines_2[i] = line\r\n",
    "#             f1_path = os.path.splitext(phn_path)[0] + \"_1.phn\"\r\n",
    "#             f2_path = os.path.splitext(phn_path)[0] + \"_2.phn\"\r\n",
    "#             for path, lines in zip([f1_path, f2_path], [lines_1, lines_2]):\r\n",
    "#                 with open(path, \"w\") as f:\r\n",
    "#                     f.writelines(lines)    \r\n",
    "#             sf.write(f1_path.replace(\"phn\", \"wav\"), y[:factor], 16000)\r\n",
    "#             sf.write(f2_path.replace(\"phn\", \"wav\"), y[factor:], 16000)\r\n",
    "#             split_files.append(wav_path)\r\n",
    "#         except:\r\n",
    "#             outlier.append(wav_path)\r\n",
    "#             pass\r\n",
    "\r\n",
    "# print(\"Outliers:\\n\", outlier)"
   ],
   "outputs": [],
   "metadata": {}
  },
  {
   "cell_type": "code",
   "execution_count": 4,
   "source": [
    "# wav_paths = glob.glob(main_dir + \"/*/*/*.wav\")\r\n",
    "# wav_paths = [path for path in wav_paths if not path in (split_files + outlier)]\r\n",
    "# frames = []\r\n",
    "# for wav_path in wav_paths:\r\n",
    "#     y = librosa.load(wav_path, sr=16000)[0]\r\n",
    "#     n_frames = len(y)\r\n",
    "#     frames.append(n_frames)\r\n",
    "\r\n",
    "# pd.DataFrame({'wav_paths': wav_paths}).to_csv(\"Datasets\\TIMIT-dataset\\data.csv\", index=False)\r\n",
    "\r\n",
    "# print(\"Number of files:\", len(wav_paths))\r\n",
    "# print(\"Max frames:\", np.max(frames))\r\n",
    "# plt.figure(figsize=(10,4))\r\n",
    "# sns.histplot(data=frames)\r\n",
    "# plt.axvline(x=np.mean(frames), color='red')\r\n",
    "# plt.xlabel(\"Number of frames per sample\")\r\n",
    "# plt.show()"
   ],
   "outputs": [],
   "metadata": {}
  },
  {
   "cell_type": "markdown",
   "source": [
    "## Padding"
   ],
   "metadata": {}
  },
  {
   "cell_type": "code",
   "execution_count": 5,
   "source": [
    "# wav_paths = glob.glob(main_dir + \"/*/*/*.wav\")\r\n",
    "# wav_paths = [path for path in wav_paths \r\n",
    "#     if not path in (split_files + outlier)]\r\n",
    "    \r\n",
    "# for wav_path in tqdm(wav_paths, desc='Padding'):\r\n",
    "#     y = librosa.load(wav_path, sr=16000)[0]\r\n",
    "#     n_frames = len(y)\r\n",
    "#     y_sil = np.array([])\r\n",
    "#     if n_frames != cutoff_limit:\r\n",
    "#         pad_length = cutoff_limit - n_frames\r\n",
    "\r\n",
    "#         with open(wav_path.replace(\"wav\", \"phn\"), \"r\") as f:\r\n",
    "#             lines = f.readlines()\r\n",
    "#         phonemes = np.array([line.split()[-1] for line in lines])\r\n",
    "#         for i in np.where(phonemes == \"h#\")[0]:\r\n",
    "#             start_sil, end_sil = list(map(int, lines[i].split()[:-1]))\r\n",
    "#             y_sil = np.concatenate([y_sil, y[start_sil:end_sil]])\r\n",
    "        \r\n",
    "#         if len(y_sil) >= pad_length:\r\n",
    "#             y_sil = y_sil[:pad_length]\r\n",
    "#         else:\r\n",
    "#             extension = pad_length - len(y_sil)\r\n",
    "#             y_sil = np.pad(y_sil, (0, extension), mode='wrap')\r\n",
    "        \r\n",
    "#         np.random.shuffle(y_sil)\r\n",
    "#         y = np.concatenate([y, y_sil])\r\n",
    "        \r\n",
    "#         start, end, phoneme = lines.pop(-1).split()\r\n",
    "#         if lines[-1].split()[-1] == \"h#\":\r\n",
    "#             line = \" \".join([end, str(cutoff_limit), phoneme])\r\n",
    "#         else:\r\n",
    "#             line = \" \".join([start, str(cutoff_limit), \"h#\\n\"])\r\n",
    "#         lines.append(line)\r\n",
    "\r\n",
    "#         with open(wav_path.replace(\"wav\", \"phn\"), \"w\") as f:\r\n",
    "#             f.writelines(lines)\r\n",
    "\r\n",
    "#         sf.write(wav_path, y, 16000)\r\n",
    "\r\n",
    "#     else:\r\n",
    "#         pass"
   ],
   "outputs": [],
   "metadata": {}
  },
  {
   "cell_type": "code",
   "execution_count": 6,
   "source": [
    "d = pd.read_csv(\"Datasets\\TIMIT-dataset\\data.csv\")\r\n",
    "d"
   ],
   "outputs": [
    {
     "output_type": "execute_result",
     "data": {
      "text/html": [
       "<div>\n",
       "<style scoped>\n",
       "    .dataframe tbody tr th:only-of-type {\n",
       "        vertical-align: middle;\n",
       "    }\n",
       "\n",
       "    .dataframe tbody tr th {\n",
       "        vertical-align: top;\n",
       "    }\n",
       "\n",
       "    .dataframe thead th {\n",
       "        text-align: right;\n",
       "    }\n",
       "</style>\n",
       "<table border=\"1\" class=\"dataframe\">\n",
       "  <thead>\n",
       "    <tr style=\"text-align: right;\">\n",
       "      <th></th>\n",
       "      <th>wav_paths</th>\n",
       "    </tr>\n",
       "  </thead>\n",
       "  <tbody>\n",
       "    <tr>\n",
       "      <th>0</th>\n",
       "      <td>Datasets\\TIMIT-dataset\\data\\DR1\\FAKS0\\SA1.wav</td>\n",
       "    </tr>\n",
       "    <tr>\n",
       "      <th>1</th>\n",
       "      <td>Datasets\\TIMIT-dataset\\data\\DR1\\FAKS0\\SA2.wav</td>\n",
       "    </tr>\n",
       "    <tr>\n",
       "      <th>2</th>\n",
       "      <td>Datasets\\TIMIT-dataset\\data\\DR1\\FAKS0\\SI1573_1...</td>\n",
       "    </tr>\n",
       "    <tr>\n",
       "      <th>3</th>\n",
       "      <td>Datasets\\TIMIT-dataset\\data\\DR1\\FAKS0\\SI1573_2...</td>\n",
       "    </tr>\n",
       "    <tr>\n",
       "      <th>4</th>\n",
       "      <td>Datasets\\TIMIT-dataset\\data\\DR1\\FAKS0\\SI2203.wav</td>\n",
       "    </tr>\n",
       "    <tr>\n",
       "      <th>...</th>\n",
       "      <td>...</td>\n",
       "    </tr>\n",
       "    <tr>\n",
       "      <th>6984</th>\n",
       "      <td>Datasets\\TIMIT-dataset\\data\\DR8\\MTCS0\\SX172.wav</td>\n",
       "    </tr>\n",
       "    <tr>\n",
       "      <th>6985</th>\n",
       "      <td>Datasets\\TIMIT-dataset\\data\\DR8\\MTCS0\\SX262.wav</td>\n",
       "    </tr>\n",
       "    <tr>\n",
       "      <th>6986</th>\n",
       "      <td>Datasets\\TIMIT-dataset\\data\\DR8\\MTCS0\\SX352.wav</td>\n",
       "    </tr>\n",
       "    <tr>\n",
       "      <th>6987</th>\n",
       "      <td>Datasets\\TIMIT-dataset\\data\\DR8\\MTCS0\\SX442.wav</td>\n",
       "    </tr>\n",
       "    <tr>\n",
       "      <th>6988</th>\n",
       "      <td>Datasets\\TIMIT-dataset\\data\\DR8\\MTCS0\\SX82.wav</td>\n",
       "    </tr>\n",
       "  </tbody>\n",
       "</table>\n",
       "<p>6989 rows × 1 columns</p>\n",
       "</div>"
      ],
      "text/plain": [
       "                                              wav_paths\n",
       "0         Datasets\\TIMIT-dataset\\data\\DR1\\FAKS0\\SA1.wav\n",
       "1         Datasets\\TIMIT-dataset\\data\\DR1\\FAKS0\\SA2.wav\n",
       "2     Datasets\\TIMIT-dataset\\data\\DR1\\FAKS0\\SI1573_1...\n",
       "3     Datasets\\TIMIT-dataset\\data\\DR1\\FAKS0\\SI1573_2...\n",
       "4      Datasets\\TIMIT-dataset\\data\\DR1\\FAKS0\\SI2203.wav\n",
       "...                                                 ...\n",
       "6984    Datasets\\TIMIT-dataset\\data\\DR8\\MTCS0\\SX172.wav\n",
       "6985    Datasets\\TIMIT-dataset\\data\\DR8\\MTCS0\\SX262.wav\n",
       "6986    Datasets\\TIMIT-dataset\\data\\DR8\\MTCS0\\SX352.wav\n",
       "6987    Datasets\\TIMIT-dataset\\data\\DR8\\MTCS0\\SX442.wav\n",
       "6988     Datasets\\TIMIT-dataset\\data\\DR8\\MTCS0\\SX82.wav\n",
       "\n",
       "[6989 rows x 1 columns]"
      ]
     },
     "metadata": {},
     "execution_count": 6
    }
   ],
   "metadata": {}
  },
  {
   "cell_type": "markdown",
   "source": [
    "# TFrecords\r\n",
    "\r\n",
    "## Write"
   ],
   "metadata": {}
  },
  {
   "cell_type": "code",
   "execution_count": 7,
   "source": [
    "def ArgParser():\r\n",
    "    parser = argparse.ArgumentParser()\r\n",
    "    \r\n",
    "    parser.add_argument(\"--n_splits\", dest=\"n_splits\", type=int, default=5)\r\n",
    "    parser.add_argument(\"--sample_rate\", dest=\"sample_rate\", type=int, default=16000)\r\n",
    "    parser.add_argument(\"--n_fft\", dest=\"n_fft\", type=int, default=2048)\r\n",
    "    parser.add_argument(\"--window_size\", dest=\"window_size\", type=int, default=480)\r\n",
    "    parser.add_argument(\"--hop_length\", dest=\"hop_length\", type=int, default=160) # 160 samples = 10ms\r\n",
    "    parser.add_argument(\"--n_mels\", dest=\"n_mels\", type=int, default=32)\r\n",
    "    parser.add_argument(\"--batch_size\", dest=\"batch_size\", type=int, default=16)\r\n",
    "    parser.add_argument(\"--buffer_size\", dest=\"buffer_size\", type=int, default=512)\r\n",
    "    parser.add_argument(\"--max_samples\", dest=\"max_samples\", type=int, default=67200)\r\n",
    "    parser.add_argument(\"--main_dir\", dest='main_dir', type=str, default=\"Datasets/TIMIT-dataset/tfrec_data\")\r\n",
    "\r\n",
    "    \r\n",
    "    args = parser.parse_known_args()[0]\r\n",
    "    seq_len = int(np.ceil(args.max_samples / args.hop_length))\r\n",
    "    parser.add_argument(\"--seq_len\", type=int, default=seq_len)\r\n",
    "    return parser.parse_known_args()[0]\r\n",
    "\r\n",
    "args = ArgParser()\r\n",
    "args"
   ],
   "outputs": [
    {
     "output_type": "execute_result",
     "data": {
      "text/plain": [
       "Namespace(batch_size=16, buffer_size=512, hop_length=160, main_dir='Datasets/TIMIT-dataset/tfrec_data', max_samples=67200, n_fft=2048, n_mels=32, n_splits=5, sample_rate=16000, seq_len=420, window_size=480)"
      ]
     },
     "metadata": {},
     "execution_count": 7
    }
   ],
   "metadata": {}
  },
  {
   "cell_type": "code",
   "execution_count": 8,
   "source": [
    "class TFRWriter():\r\n",
    "    def __init__(self, args):\r\n",
    "        self.samples = d['wav_paths'].tolist()\r\n",
    "        self.args = args\r\n",
    "        self.dict_path = \"Datasets\\TIMIT-dataset\\phoneme_dict.json\"\r\n",
    "        self.phoneme_dict = self.get_dict()\r\n",
    "\r\n",
    "    def _bytes_feature(self, value):\r\n",
    "        \"\"\"Returns a bytes_list from a string / byte.\"\"\"\r\n",
    "        if isinstance(value, type(tf.constant(0))):\r\n",
    "            value = value.numpy()\r\n",
    "        return tf.train.Feature(bytes_list=tf.train.BytesList(value=[value]))\r\n",
    "\r\n",
    "    def _int64_feature(self, value):\r\n",
    "        \"\"\"Returns an int64_list from a bool / enum / int / uint.\"\"\"\r\n",
    "        return tf.train.Feature(int64_list=tf.train.Int64List(value=[value]))\r\n",
    "\r\n",
    "    def serialize_example(self, *args):\r\n",
    "        feature = {\r\n",
    "            'audio': self._bytes_feature(args[0]),\r\n",
    "            'binary_labels': self._bytes_feature(args[1]),\r\n",
    "            'framewise_labels': self._bytes_feature(args[2]),\r\n",
    "            'attention_mask': self._bytes_feature(args[3]),\r\n",
    "            'filename': self._bytes_feature(args[4])}\r\n",
    "\r\n",
    "        example_proto = tf.train.Example(\r\n",
    "            features=tf.train.Features(feature=feature))\r\n",
    "        return example_proto.SerializeToString()\r\n",
    "\r\n",
    "    def get_binary_labels(self, p_frames): # TODO\r\n",
    "        p_frames = tf.convert_to_tensor(p_frames)\r\n",
    "        labels = tf.tensor_scatter_nd_update(\r\n",
    "            tensor=tf.zeros([p_frames[-1]+1], dtype=tf.int32), \r\n",
    "            indices=tf.expand_dims(p_frames, axis=1), \r\n",
    "            updates=tf.ones([p_frames.shape[0]], dtype=tf.int32))\r\n",
    "        padding = tf.zeros([self.args.seq_len-len(labels)], dtype=tf.int32)\r\n",
    "        return tf.concat([labels, padding], axis=0)\r\n",
    "\r\n",
    "    def get_framewise_labels(self, p_frames, phonemes): # TODO\r\n",
    "        labels = []\r\n",
    "        for i in range(1, len(p_frames)):\r\n",
    "            for j in range(p_frames[i-1], p_frames[i]):\r\n",
    "                labels.append(phonemes[i-1])\r\n",
    "        labels = tf.convert_to_tensor(labels)\r\n",
    "        padding = tf.zeros([self.args.seq_len-len(labels)], dtype=tf.int32)\r\n",
    "        return tf.concat([labels, padding], axis=0)\r\n",
    "\r\n",
    "    def get_attention_mask(self, p_frames):\r\n",
    "        mask = tf.convert_to_tensor(\r\n",
    "            [True if i < p_frames[-1] else False for i in range(self.args.seq_len)])\r\n",
    "        return mask\r\n",
    "\r\n",
    "    def get_shards(self):\r\n",
    "        speaker_id = [sample.split('\\\\')[4] for sample in self.samples]\r\n",
    "        skf = StratifiedKFold(\r\n",
    "            n_splits=self.args.n_splits, shuffle=True, random_state=42)\r\n",
    "        return [\r\n",
    "            list(map(lambda x: self.samples[x], j)) \r\n",
    "            for i, j in skf.split(self.samples, speaker_id)]\r\n",
    "\r\n",
    "    def get_dict(self):\r\n",
    "        phonemes = set()\r\n",
    "        markers = ['h#', 'pau', 'epi']\r\n",
    "        for sample in self.samples:\r\n",
    "            base_path = os.path.splitext(sample)[0]\r\n",
    "            with open(base_path + '.phn', \"r\") as f:\r\n",
    "                for line in f.readlines():\r\n",
    "                    phoneme = line.split()[-1]\r\n",
    "                    if not phoneme in markers:\r\n",
    "                        phonemes.add(phoneme)\r\n",
    "        phonemes = markers + sorted(Counter(phonemes), key=Counter(phonemes).get, reverse=True)\r\n",
    "        phonemes_dict = {v: i+1 for i, v in enumerate(phonemes)}\r\n",
    "        with open(self.dict_path, \"w\") as f:\r\n",
    "            json.dump(phonemes_dict, f, sort_keys=False, indent=4)\r\n",
    "        return phonemes_dict \r\n",
    "    \r\n",
    "    def get_shard_data(self, samples, shard):\r\n",
    "        for sample in tqdm(\r\n",
    "                samples, total=len(samples), desc=f\"Writing shard {shard}\"):\r\n",
    "            base_path = os.path.splitext(sample)[0]\r\n",
    "            p_frames, phonemes = [0], []\r\n",
    "            with open(base_path + \".phn\") as f:\r\n",
    "                for line in f.readlines():\r\n",
    "                    p_frame, phoneme = line.split()[1::]\r\n",
    "                    p_frames.append(int(p_frame) // self.args.hop_length)\r\n",
    "                    phonemes.append(str(phoneme))\r\n",
    "            phonemes = list(map(self.phoneme_dict.get, phonemes))\r\n",
    "            binary_labels = self.get_binary_labels(p_frames)\r\n",
    "            framewise_labels = self.get_framewise_labels(p_frames, phonemes)\r\n",
    "            waveform = tf.io.read_file(base_path + \".wav\")\r\n",
    "            spec_mask = self.get_attention_mask(p_frames)\r\n",
    "            filename = str.encode(\"/\".join(sample.split('\\\\')[-3::]))\r\n",
    "            yield {\r\n",
    "                \"audio\": waveform,\r\n",
    "                \"binary_labels\": tf.io.serialize_tensor(binary_labels),\r\n",
    "                \"framewise_labels\": tf.io.serialize_tensor(framewise_labels),\r\n",
    "                \"attention_mask\": tf.io.serialize_tensor(spec_mask),\r\n",
    "                \"filename\": filename}\r\n",
    "\r\n",
    "    def write(self):\r\n",
    "        for shard, samples in enumerate(self.get_shards()):\r\n",
    "            with tf.io.TFRecordWriter(\r\n",
    "                    f\"Datasets/TIMIT-dataset/tfrec_data/train_{shard+1}.tfrec\") as f:\r\n",
    "                for sample in self.get_shard_data(samples, shard+1):\r\n",
    "                    example = self.serialize_example(\r\n",
    "                        sample['audio'], sample['binary_labels'], \r\n",
    "                        sample['framewise_labels'], sample['attention_mask'],\r\n",
    "                        sample['filename'])\r\n",
    "                    f.write(example)\r\n",
    "\r\n",
    "TFRWriter(args).write()"
   ],
   "outputs": [
    {
     "output_type": "display_data",
     "data": {
      "application/vnd.jupyter.widget-view+json": {
       "version_major": 2,
       "version_minor": 0,
       "model_id": "3aa73f504c744c71bfb6b77e326dfa08"
      },
      "text/plain": [
       "Writing shard 1:   0%|          | 0/1398 [00:00<?, ?it/s]"
      ]
     },
     "metadata": {}
    },
    {
     "output_type": "display_data",
     "data": {
      "application/vnd.jupyter.widget-view+json": {
       "version_major": 2,
       "version_minor": 0,
       "model_id": "e533d29566a944e89f03641db0102d34"
      },
      "text/plain": [
       "Writing shard 2:   0%|          | 0/1398 [00:00<?, ?it/s]"
      ]
     },
     "metadata": {}
    },
    {
     "output_type": "display_data",
     "data": {
      "application/vnd.jupyter.widget-view+json": {
       "version_major": 2,
       "version_minor": 0,
       "model_id": "e8589a5ae5bd44cea9568968e701c236"
      },
      "text/plain": [
       "Writing shard 3:   0%|          | 0/1398 [00:00<?, ?it/s]"
      ]
     },
     "metadata": {}
    },
    {
     "output_type": "display_data",
     "data": {
      "application/vnd.jupyter.widget-view+json": {
       "version_major": 2,
       "version_minor": 0,
       "model_id": "b3a1fa97eb82451db1aff5b4b996fdf9"
      },
      "text/plain": [
       "Writing shard 4:   0%|          | 0/1398 [00:00<?, ?it/s]"
      ]
     },
     "metadata": {}
    },
    {
     "output_type": "display_data",
     "data": {
      "application/vnd.jupyter.widget-view+json": {
       "version_major": 2,
       "version_minor": 0,
       "model_id": "93e50fb01e104ebdb0ad58283ddd5c64"
      },
      "text/plain": [
       "Writing shard 5:   0%|          | 0/1397 [00:00<?, ?it/s]"
      ]
     },
     "metadata": {}
    }
   ],
   "metadata": {}
  },
  {
   "cell_type": "markdown",
   "source": [
    "## Loading"
   ],
   "metadata": {}
  },
  {
   "cell_type": "code",
   "execution_count": null,
   "source": [
    "class TIMITDataset():\r\n",
    "    def __init__(self, args):\r\n",
    "        self.files = [os.path.join(args.main_dir, f) for f in os.listdir(args.main_dir)]\r\n",
    "        self.args = args\r\n",
    "        self.AUTOTUNE = tf.data.experimental.AUTOTUNE\r\n",
    "        self.train_files, self.val_files = train_test_split(\r\n",
    "            self.files, test_size=0.2, shuffle=True)\r\n",
    "\r\n",
    "    def decode_audio(self, string):\r\n",
    "        audio = tf.audio.decode_wav(string, desired_samples=self.args.max_samples)[0]\r\n",
    "        return tf.squeeze(audio, axis=-1)\r\n",
    "\r\n",
    "    def read_tfrecord(self, example):\r\n",
    "        feature_description = {\r\n",
    "            'audio': tf.io.FixedLenFeature([], tf.string),\r\n",
    "            'binary_labels': tf.io.FixedLenFeature([], tf.string),\r\n",
    "            'attention_mask': tf.io.FixedLenFeature([], tf.string)}\r\n",
    "        \r\n",
    "        example = tf.io.parse_single_example(example, feature_description)\r\n",
    "        example['audio'] = self.decode_audio(example['audio'])\r\n",
    "        example['binary_labels'] = tf.io.parse_tensor(\r\n",
    "            example['binary_labels'], out_type=tf.int32)\r\n",
    "        example['attention_mask'] = tf.io.parse_tensor(\r\n",
    "            example['attention_mask'], out_type=tf.bool)\r\n",
    "        example['binary_labels'] = tf.cast(example['binary_labels'], dtype=tf.float32)\r\n",
    "        return example\r\n",
    "\r\n",
    "    def load_dataset(self, files):\r\n",
    "        ignore_order = tf.data.Options()\r\n",
    "        ignore_order.experimental_deterministic = False\r\n",
    "        dataset = tf.data.TFRecordDataset(files)\r\n",
    "        dataset = dataset.with_options(ignore_order)\r\n",
    "        dataset = dataset.map(self.read_tfrecord, num_parallel_calls=self.AUTOTUNE)\r\n",
    "        return dataset\r\n",
    " \r\n",
    "    def SpecAugment(self, sample, training):\r\n",
    "        waveform = sample['audio'] / 32678\r\n",
    "        if training == True:\r\n",
    "            waveform = tfio.audio.fade(\r\n",
    "                waveform, fade_in=1000, fade_out=2000, mode=\"logarithmic\")\r\n",
    "        spectrogram = tf.abs(tfio.audio.spectrogram(\r\n",
    "            waveform, nfft=self.args.n_fft, window=self.args.window_size, \r\n",
    "            stride=self.args.hop_length))\r\n",
    "        mel_spectrogram = tfio.audio.melscale(\r\n",
    "            spectrogram, rate=self.args.sample_rate, mels=self.args.n_mels, \r\n",
    "            fmin=0, fmax=8000)\r\n",
    "        mel_spectrogram = tfio.audio.dbscale(mel_spectrogram, top_db=80)\r\n",
    "        if training == True:\r\n",
    "            mel_spectrogram = tfio.audio.freq_mask(mel_spectrogram, param=7)\r\n",
    "            mel_spectrogram = tfio.audio.time_mask(mel_spectrogram, param=10)\r\n",
    "        inputs = {\"spectrogram\": mel_spectrogram, \"mask\": sample['attention_mask']}\r\n",
    "        return inputs, sample['binary_labels']\r\n",
    "\r\n",
    "    def train(self):\r\n",
    "        dataset = self.load_dataset(self.train_files)\r\n",
    "        dataset = dataset.map(\r\n",
    "            partial(self.SpecAugment, training=True), num_parallel_calls=self.AUTOTUNE)\r\n",
    "        dataset = dataset.shuffle(self.args.buffer_size)\r\n",
    "        dataset = dataset.batch(self.args.batch_size)\r\n",
    "        dataset = dataset.prefetch(self.AUTOTUNE)\r\n",
    "        return dataset\r\n",
    "\r\n",
    "    def val(self):\r\n",
    "        dataset = self.load_dataset(self.val_files)\r\n",
    "        dataset = dataset.map(\r\n",
    "            partial(self.SpecAugment, training=False), num_parallel_calls=self.AUTOTUNE)\r\n",
    "        dataset = dataset.batch(self.args.batch_size)\r\n",
    "        dataset = dataset.cache()\r\n",
    "        dataset = dataset.prefetch(self.AUTOTUNE)\r\n",
    "        return dataset\r\n",
    "\r\n",
    "train = TIMITDataset(args).train()\r\n",
    "val = TIMITDataset(args).val()\r\n",
    "train"
   ],
   "outputs": [],
   "metadata": {}
  },
  {
   "cell_type": "code",
   "execution_count": null,
   "source": [
    "mask = next(iter(train))[0]['mask']\r\n",
    "mask"
   ],
   "outputs": [],
   "metadata": {}
  },
  {
   "cell_type": "markdown",
   "source": [
    "## SpecAugment"
   ],
   "metadata": {}
  },
  {
   "cell_type": "code",
   "execution_count": null,
   "source": [
    "import librosa.display\r\n",
    "\r\n",
    "spectrogram, mask = next(iter(train))[0].values()\r\n",
    "\r\n",
    "plt.figure(figsize=(10, 7))\r\n",
    "n_samples = spectrogram.shape[0]\r\n",
    "row = 4; col = int(n_samples / 4)\r\n",
    "\r\n",
    "for i in range(n_samples):\r\n",
    "    plt.subplot(row, col, i+1)\r\n",
    "    plt.axis(\"off\")\r\n",
    "    librosa.display.specshow(spectrogram[i].numpy().T)\r\n",
    "\r\n",
    "plt.tight_layout()\r\n",
    "plt.show()"
   ],
   "outputs": [],
   "metadata": {}
  },
  {
   "cell_type": "code",
   "execution_count": null,
   "source": [
    "def Segmentor(input_shape=(420, 32), dropout=0.2):\r\n",
    "    spectrogram = Input(shape=input_shape, dtype=tf.float32, name='spectrogram')\r\n",
    "    mask = Input(shape=input_shape[0], dtype=tf.bool, name='mask')\r\n",
    "    layer_1 = Bidirectional(LSTM(50, dropout=dropout, return_sequences=True), name=\"layer_1\")\r\n",
    "    layer_2 = Bidirectional(LSTM(25, dropout=dropout, return_sequences=True), name=\"layer_2\")\r\n",
    "    layer_3 = TimeDistributed(Dense(1, activation='sigmoid', name='layer_3'))\r\n",
    "\r\n",
    "    x = layer_1(inputs=spectrogram, mask=mask)\r\n",
    "    x = layer_2(x)\r\n",
    "    x = layer_3(x)\r\n",
    "    outputs = tf.squeeze(x, axis=-1)\r\n",
    "    return Model(inputs=[spectrogram, mask], outputs=outputs, name='Segmentor')\r\n",
    "\r\n",
    "model = Segmentor()\r\n",
    "# model.summary()\r\n",
    "\r\n",
    "plot_model(model, show_shapes=True, show_layer_names=False, show_dtype=True)"
   ],
   "outputs": [],
   "metadata": {}
  },
  {
   "cell_type": "code",
   "execution_count": null,
   "source": [
    "class WeightedBinaryCrossentropy(tf.keras.losses.Loss):\r\n",
    "    def __init__(\r\n",
    "            self, from_logits=False, label_smoothing=0, \r\n",
    "            axis=-1, factor=2, name='weighted_bce'):\r\n",
    "        super(WeightedBinaryCrossentropy, self).__init__()\r\n",
    "        self.factor = factor      \r\n",
    "    \r\n",
    "    def __call__(self, y_true, y_pred, sample_weight=None):\r\n",
    "        loss = tf.nn.weighted_cross_entropy_with_logits(\r\n",
    "            labels=y_true, logits=y_pred, pos_weight=self.factor)\r\n",
    "        return tf.math.reduce_mean(loss)"
   ],
   "outputs": [],
   "metadata": {}
  },
  {
   "cell_type": "code",
   "execution_count": null,
   "source": [
    "epochs = 10\r\n",
    "# loss_fn = WeightedBinaryCrossentropy(from_logits=True, factor=2)\r\n",
    "loss_fn = tf.keras.losses.BinaryCrossentropy(from_logits=False, axis=-1)\r\n",
    "optimizer = tf.keras.optimizers.Adam(learning_rate=1e-1)\r\n",
    "train_metric = tf.keras.metrics.MeanIoU(num_classes=2, name='jaccard')\r\n",
    "val_metric = tf.keras.metrics.MeanIoU(num_classes=2, name='jaccard')\r\n",
    "\r\n",
    "for epoch in range(epochs):\r\n",
    "    for step, (X_train, y_train) in tqdm(enumerate(train), total=350):\r\n",
    "        mask = tf.cast(X_train['mask'], dtype=tf.float32)\r\n",
    "        with tf.GradientTape() as tape:\r\n",
    "            logits = model(X_train, training=True)\r\n",
    "            loss = loss_fn(y_train, logits)\r\n",
    "        grads = tape.gradient(loss, model.trainable_weights)\r\n",
    "        optimizer.apply_gradients(zip(grads, model.trainable_weights))\r\n",
    "        train_metric.update_state(y_train, logits, sample_weight=mask)\r\n",
    "\r\n",
    "    jaccard = train_metric.result()\r\n",
    "    train_metric.reset_states()\r\n",
    "    \r\n",
    "    for X_val, y_val in val:\r\n",
    "        mask = X_val['mask']\r\n",
    "        val_logits = model(X_val, training=False)\r\n",
    "        val_loss = loss_fn(y_val, val_logits)\r\n",
    "        val_metric.update_state(y_val, val_logits, sample_weight=mask)\r\n",
    "    \r\n",
    "    val_jaccard = val_metric.result()\r\n",
    "    val_metric.reset_states()\r\n",
    "\r\n",
    "    print(\"Epoch {}: - loss: {:.3f} - jaccard: {:.2f}% - val_loss: {:.3f} - val_jaccard: {:.2f}%\".format(\r\n",
    "        epoch, loss, jaccard.numpy()*100, val_loss, val_jaccard.numpy()*100))"
   ],
   "outputs": [],
   "metadata": {}
  },
  {
   "cell_type": "code",
   "execution_count": null,
   "source": [
    "y_pred = model.predict(val)[1]\r\n",
    "y_pred = tf.math.round(y_pred)\r\n",
    "y_true = next(iter(val))[1][1]\r\n",
    "tf.keras.metrics.MeanIoU(num_classes=2, name='jaccard')(y_true, y_pred)"
   ],
   "outputs": [],
   "metadata": {}
  },
  {
   "cell_type": "code",
   "execution_count": null,
   "source": [
    "y_pred"
   ],
   "outputs": [],
   "metadata": {}
  },
  {
   "cell_type": "code",
   "execution_count": null,
   "source": [
    "y_true"
   ],
   "outputs": [],
   "metadata": {}
  }
 ],
 "metadata": {
  "orig_nbformat": 4,
  "language_info": {
   "name": "python",
   "version": "3.8.11",
   "mimetype": "text/x-python",
   "codemirror_mode": {
    "name": "ipython",
    "version": 3
   },
   "pygments_lexer": "ipython3",
   "nbconvert_exporter": "python",
   "file_extension": ".py"
  },
  "kernelspec": {
   "name": "python3",
   "display_name": "Python 3.8.11 64-bit ('tf-gpu': conda)"
  },
  "interpreter": {
   "hash": "b851d2923cfa3a2562599062e05fd9893d86a7c009c64d8ad3756552e4dd5f41"
  }
 },
 "nbformat": 4,
 "nbformat_minor": 2
}