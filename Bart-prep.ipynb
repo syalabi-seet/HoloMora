{
 "cells": [
  {
   "cell_type": "code",
   "execution_count": 1,
   "metadata": {},
   "outputs": [],
   "source": [
    "import os\n",
    "import re\n",
    "import glob\n",
    "import cutlet\n",
    "\n",
    "from tqdm.notebook import tqdm\n",
    "import pandas as pd\n",
    "\n",
    "import tensorflow as tf\n",
    "\n",
    "import sentencepiece as spm\n",
    "\n",
    "from tokenizers import ByteLevelBPETokenizer\n",
    "from tokenizers.processors import BertProcessing\n",
    "\n",
    "from transformers import T5Tokenizer, TFT5ForConditionalGeneration\n",
    "\n",
    "os.environ[\"CUDA_VISIBLE_DEVICES\"] = \"1\"\n",
    "\n",
    "main_dir = \"Datasets\\OPUS100-dataset\"\n",
    "\n",
    "katsu = cutlet.Cutlet()\n",
    "katsu.use_foreign_spelling = False\n",
    "\n",
    "JA_unicode = []\n",
    "with open(\"E:\\Datasets\\ASR-dataset\\JA_unicode.txt\", \"r\", encoding=\"utf-8\") as f:\n",
    "    lines = f.readlines()\n",
    "    for line in lines:\n",
    "        line = line.split()[1:]\n",
    "        for char in line:\n",
    "            JA_unicode.append(char)"
   ]
  },
  {
   "cell_type": "markdown",
   "metadata": {},
   "source": [
    "# Prep"
   ]
  },
  {
   "cell_type": "code",
   "execution_count": 2,
   "metadata": {},
   "outputs": [],
   "source": [
    "def clean_kanji(sentence):\n",
    "    symbols = f\"[^{JA_unicode}]\"\n",
    "    sentence = re.sub(symbols, \"\", sentence).strip()\n",
    "    symbols = f\"[（.*?）！-～.,;..._。、-〿・■（）：ㇰ-ㇿ㈠-㉃㊀-㋾㌀-㍿「」『』→ー -~‘–※π—ゐ’“”]\"\n",
    "    sentence = re.sub(symbols, \"\", sentence).strip()\n",
    "    return sentence\n",
    "\n",
    "def clean_romaji(sentence):\n",
    "    sentence = sentence.strip().lower()\n",
    "    sentence = re.sub(r'[.,\"\\'\\/?]', \"\", sentence)\n",
    "    sentence = sentence.split()\n",
    "    for i, mora in enumerate(sentence):\n",
    "        if (mora == \"n\") | (mora == \"u\") & (i < len(sentence) - 1):\n",
    "            prev_mora = sentence.pop(i-1)\n",
    "            sentence[i-1] = \"\".join([prev_mora, mora])\n",
    "    sentence = \" \".join(sentence)\n",
    "    return sentence"
   ]
  },
  {
   "cell_type": "code",
   "execution_count": 3,
   "metadata": {},
   "outputs": [],
   "source": [
    "# data = pd.read_csv(\"E:\\Datasets\\ASR-dataset\\ASRDataset.csv\")\n",
    "# data = data['romaji'].to_list()\n",
    "# data = [x.replace(\"|\", \" \") + \"\\n\" for x in data]\n",
    "# with open(r\"E:\\Datasets\\ASR-dataset\\tokenizer_text\\asr_text.txt\", \"w\") as f:\n",
    "#     f.writelines(data)"
   ]
  },
  {
   "cell_type": "code",
   "execution_count": 4,
   "metadata": {},
   "outputs": [],
   "source": [
    "# paths = glob.glob(f\"{main_dir}/*.ja\")\n",
    "# paths\n",
    "\n",
    "# for path in paths:\n",
    "#     lines = []\n",
    "#     with open(path, \"r\", encoding=\"utf-8\") as f:\n",
    "#         for line in tqdm(f.readlines()):\n",
    "#             try:\n",
    "#                 new_line = clean_kanji(line)\n",
    "#                 new_line = katsu.romaji(new_line)\n",
    "#                 new_line = clean_romaji(new_line)\n",
    "#             except:\n",
    "#                 continue\n",
    "#             if new_line != \"\":\n",
    "#                 lines.append(new_line + \"\\n\")\n",
    "#     new_path = os.path.join(r\"E:\\Datasets\\ASR-dataset\\tokenizer_text\", path.split(\"\\\\\")[-1])\n",
    "#     with open(new_path, \"w\", encoding=\"utf-8\") as f:\n",
    "#         f.writelines(lines)"
   ]
  },
  {
   "cell_type": "code",
   "execution_count": 5,
   "metadata": {},
   "outputs": [
    {
     "data": {
      "application/vnd.jupyter.widget-view+json": {
       "model_id": "5ab415fc1b934177bfbb808e630bbdae",
       "version_major": 2,
       "version_minor": 0
      },
      "text/plain": [
       "  0%|          | 0/208866 [00:00<?, ?it/s]"
      ]
     },
     "metadata": {},
     "output_type": "display_data"
    }
   ],
   "source": [
    "path = \"D:\\School-stuff\\Sem-2\\PR-Project\\HoloASR\\Datasets\\Tatoeba-dataset\\Tatoeba.en-ja.ja\"\n",
    "\n",
    "with open(path, \"r\", encoding=\"utf-8\") as f:\n",
    "    lines = f.readlines()\n",
    "\n",
    "new_lines = []\n",
    "for line in tqdm(lines, total=len(lines)):\n",
    "    try:\n",
    "        new_line = clean_kanji(line)\n",
    "        new_line = katsu.romaji(new_line)\n",
    "        new_line = clean_romaji(new_line)\n",
    "    except:\n",
    "        continue\n",
    "    if new_line != \"\":\n",
    "        new_lines.append(new_line + \"\\n\")\n",
    "\n",
    "new_path = os.path.join(r\"E:\\Datasets\\ASR-dataset\\tokenizer_text\", path.split(\"\\\\\")[-1])\n",
    "with open(new_path, \"w\", encoding=\"utf-8\") as f:\n",
    "    f.writelines(new_lines)"
   ]
  },
  {
   "cell_type": "markdown",
   "metadata": {},
   "source": [
    "# Training"
   ]
  }
 ],
 "metadata": {
  "interpreter": {
   "hash": "b851d2923cfa3a2562599062e05fd9893d86a7c009c64d8ad3756552e4dd5f41"
  },
  "kernelspec": {
   "display_name": "Python 3.8.11 64-bit ('tf-gpu': conda)",
   "name": "python3"
  },
  "language_info": {
   "codemirror_mode": {
    "name": "ipython",
    "version": 3
   },
   "file_extension": ".py",
   "mimetype": "text/x-python",
   "name": "python",
   "nbconvert_exporter": "python",
   "pygments_lexer": "ipython3",
   "version": "3.8.11"
  },
  "orig_nbformat": 4
 },
 "nbformat": 4,
 "nbformat_minor": 2
}
