{
 "cells": [
  {
   "cell_type": "code",
   "execution_count": 4,
   "metadata": {},
   "outputs": [],
   "source": [
    "import pafy\n",
    "import vlc"
   ]
  },
  {
   "cell_type": "code",
   "execution_count": 6,
   "metadata": {},
   "outputs": [],
   "source": [
    "import sounddevice as sd"
   ]
  },
  {
   "cell_type": "code",
   "execution_count": 9,
   "metadata": {},
   "outputs": [
    {
     "data": {
      "text/plain": [
       "   0 Microsoft Sound Mapper - Input, MME (2 in, 0 out)\n",
       ">  1 CABLE Output (VB-Audio Virtual , MME (2 in, 0 out)\n",
       "   2 Microphone (B525 HD Webcam), MME (2 in, 0 out)\n",
       "   3 Microsoft Sound Mapper - Output, MME (0 in, 2 out)\n",
       "<  4 CABLE Input (VB-Audio Virtual C, MME (0 in, 2 out)\n",
       "   5 X340 PRO (NVIDIA High Definitio, MME (0 in, 2 out)\n",
       "   6 Speakers (Realtek(R) Audio), MME (0 in, 2 out)\n",
       "   7 Realtek Digital Output (Realtek, MME (0 in, 2 out)\n",
       "   8 Primary Sound Capture Driver, Windows DirectSound (2 in, 0 out)\n",
       "   9 CABLE Output (VB-Audio Virtual Cable), Windows DirectSound (2 in, 0 out)\n",
       "  10 Microphone (B525 HD Webcam), Windows DirectSound (2 in, 0 out)\n",
       "  11 Primary Sound Driver, Windows DirectSound (0 in, 2 out)\n",
       "  12 CABLE Input (VB-Audio Virtual Cable), Windows DirectSound (0 in, 2 out)\n",
       "  13 X340 PRO (NVIDIA High Definition Audio), Windows DirectSound (0 in, 2 out)\n",
       "  14 Speakers (Realtek(R) Audio), Windows DirectSound (0 in, 2 out)\n",
       "  15 Realtek Digital Output (Realtek(R) Audio), Windows DirectSound (0 in, 2 out)\n",
       "  16 X340 PRO (NVIDIA High Definition Audio), Windows WASAPI (0 in, 2 out)\n",
       "  17 Speakers (Realtek(R) Audio), Windows WASAPI (0 in, 2 out)\n",
       "  18 Realtek Digital Output (Realtek(R) Audio), Windows WASAPI (0 in, 2 out)\n",
       "  19 CABLE Input (VB-Audio Virtual Cable), Windows WASAPI (0 in, 2 out)\n",
       "  20 CABLE Output (VB-Audio Virtual Cable), Windows WASAPI (2 in, 0 out)\n",
       "  21 Microphone (B525 HD Webcam), Windows WASAPI (1 in, 0 out)\n",
       "  22 Headphones (Realtek HD Audio 2nd output), Windows WDM-KS (0 in, 2 out)\n",
       "  23 Microphone (Realtek HD Audio Mic input), Windows WDM-KS (2 in, 0 out)\n",
       "  24 SPDIF Out (Realtek HDA SPDIF Out), Windows WDM-KS (0 in, 2 out)\n",
       "  25 Stereo Mix (Realtek HD Audio Stereo input), Windows WDM-KS (2 in, 0 out)\n",
       "  26 Line In (Realtek HD Audio Line input), Windows WDM-KS (2 in, 0 out)\n",
       "  27 Speakers (Realtek HD Audio output), Windows WDM-KS (0 in, 8 out)\n",
       "  28 Microphone (B525 HD Webcam), Windows WDM-KS (1 in, 0 out)\n",
       "  29 Output (NVIDIA High Definition Audio), Windows WDM-KS (0 in, 2 out)\n",
       "  30 CABLE Output (VB-Audio Point), Windows WDM-KS (8 in, 0 out)\n",
       "  31 Speakers (VB-Audio Point), Windows WDM-KS (0 in, 8 out)"
      ]
     },
     "execution_count": 9,
     "metadata": {},
     "output_type": "execute_result"
    }
   ],
   "source": [
    "sd.query_devices()"
   ]
  }
 ],
 "metadata": {
  "interpreter": {
   "hash": "aab60a7a3a83d08b0b7725cdbc852cf80d008bd93e6a36114a5e1308069703a2"
  },
  "kernelspec": {
   "display_name": "Python 3.7.0 64-bit ('test-env': conda)",
   "name": "python3"
  },
  "language_info": {
   "codemirror_mode": {
    "name": "ipython",
    "version": 3
   },
   "file_extension": ".py",
   "mimetype": "text/x-python",
   "name": "python",
   "nbconvert_exporter": "python",
   "pygments_lexer": "ipython3",
   "version": "3.7.0"
  },
  "orig_nbformat": 4
 },
 "nbformat": 4,
 "nbformat_minor": 2
}
