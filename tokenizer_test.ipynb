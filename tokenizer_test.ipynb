{
 "cells": [
  {
   "cell_type": "code",
   "execution_count": 1,
   "source": [
    "import os\r\n",
    "import json\r\n",
    "import tensorflow as tf\r\n",
    "\r\n",
    "import MeCab\r\n",
    "import pandas as pd\r\n",
    "\r\n",
    "from transformers import Wav2Vec2CTCTokenizer\r\n",
    "\r\n",
    "os.environ[\"CUDA_VISIBLE_DEVICES\"] = \"1\""
   ],
   "outputs": [],
   "metadata": {}
  },
  {
   "cell_type": "code",
   "execution_count": 2,
   "source": [
    "with open(r\"E:\\Datasets\\ASR-dataset\\vocab.json\", \"r\") as f:\r\n",
    "    vocab = json.load(f)\r\n",
    "\r\n",
    "print(vocab)"
   ],
   "outputs": [
    {
     "output_type": "stream",
     "name": "stdout",
     "text": [
      "{'<pad>': 0, '<s>': 1, '</s>': 2, '<unk>': 3, ' ': 4, 'a': 5, 'o': 6, 'i': 7, 'u': 8, 'n': 9, 'e': 10, 'k': 11, 't': 12, 'r': 13, 'm': 14, 's': 15, 'sh': 16, 'd': 17, 'g': 18, 'w': 19, 'y': 20, 'b': 21, 'h': 22, 'ts': 23, 'j': 24, 'ch': 25, 'z': 26, 'p': 27, 'f': 28, 'ky': 29, 'ry': 30, 'gy': 31, 'hy': 32, 'ny': 33, 'by': 34, 'my': 35, 'py': 36}\n"
     ]
    }
   ],
   "metadata": {}
  },
  {
   "cell_type": "code",
   "execution_count": 3,
   "source": [
    "with open(\"D:\\School-stuff\\Sem-2\\PR-Project\\HoloASR\\hira_vocab.json\", \"r\", encoding=\"utf-8\") as f:\r\n",
    "    hira_vocab = json.load(f)\r\n",
    "\r\n",
    "print(hira_vocab)"
   ],
   "outputs": [
    {
     "output_type": "stream",
     "name": "stdout",
     "text": [
      "{'あ': 'a', 'い': 'i', 'う': 'u', 'え': 'e', 'お': 'o', 'か': 'ka', 'き': 'ki', 'く': 'ku', 'け': 'ke', 'こ': 'ko', 'さ': 'sa', 'し': 'shi', 'す': 'su', 'せ': 'se', 'そ': 'so', 'た': 'ta', 'ち': 'chi', 'つ': 'tsu', 'て': 'te', 'と': 'to', 'な': 'na', 'に': 'ni', 'ぬ': 'nu', 'ね': 'ne', 'の': 'no', 'は': 'ha', 'ふ': 'fu', 'へ': 'he', 'ほ': 'ho', 'ひ': 'hi', 'ま': 'ma', 'め': 'me', 'も': 'mo', 'み': 'mi', 'む': 'mu', 'や': 'ya', 'よ': 'yu', 'ゆ': 'yo', 'ら': 'ra', 'り': 'ri', 'る': 'ru', 'れ': 're', 'ろ': 'ro', 'わ': 'wa', 'を': 'wo', 'ん': 'n', 'が': 'ga', 'ぎ': 'gi', 'ぐ': 'gu', 'げ': 'ge', 'ご': 'go', 'ざ': 'za', 'ぜ': 'ze', 'ず': 'zu', 'じ': 'zi', 'ぞ': 'zo', 'だ': 'da', 'ど': 'do', 'づ': 'du', 'で': 'de', 'ぢ': 'di', 'ぼ': 'bo', 'び': 'bi', 'ぶ': 'bu', 'べ': 'be', 'ば': 'ba', 'ぱ': 'pa', 'ぴ': 'pi', 'ぷ': 'pu', 'ぺ': 'pe', 'ぽ': 'po', 'きゃ': 'kya', 'きゅ': 'kyu', 'きょ': 'kyo', 'ぎゃ': 'gya', 'ぎゅ': 'gyu', 'ぎょ': 'gyo', 'しゃ': 'sha', 'しゅ': 'shu', 'しょ': 'sho', 'じゃ': 'ja', 'じゅ': 'ju', 'じょ': 'jo', 'ちゃ': 'cha', 'ちゅ': 'chu', 'ちょ': 'cho', 'にゃ': 'nya', 'にゅ': 'nyu', 'にょ': 'nyo', 'ひゃ': 'hya', 'ひゅ': 'hyu', 'ひょ': 'hyo', 'びゃ': 'bya', 'びゅ': 'byu', 'びょ': 'byo', 'みゃ': 'mya', 'みゅ': 'myu', 'みょ': 'myo', 'ぴゃ': 'pya', 'ぴゅ': 'pyu', 'ぴょ': 'pyo', 'りゃ': 'rya', 'りゅ': 'ryu', 'りょ': 'ryo', 'って': 'tte'}\n"
     ]
    }
   ],
   "metadata": {}
  },
  {
   "cell_type": "code",
   "execution_count": 19,
   "source": [
    "special_tokens = [\"<pad>\", \"<s>\", \"</s>\", \"<unk>\", \" \"]\r\n",
    "\r\n",
    "mora_vocab = {mora: i for i, mora in enumerate(special_tokens + list(hira_vocab.values()))}\r\n",
    "\r\n",
    "with open(\"D:\\School-stuff\\Sem-2\\PR-Project\\HoloASR\\mora2idx_vocab.json\", \"w\") as f:\r\n",
    "    json.dump(mora_vocab, f, indent=4)"
   ],
   "outputs": [],
   "metadata": {}
  },
  {
   "cell_type": "code",
   "execution_count": 20,
   "source": [
    "mora_vocab = {i:mora for i, mora in enumerate(special_tokens + list(hira_vocab.keys()))}\r\n",
    "\r\n",
    "with open(\"D:\\School-stuff\\Sem-2\\PR-Project\\HoloASR\\idx2hira_vocab.json\", \"w\", encoding=\"utf-8\") as f:\r\n",
    "    json.dump(mora_vocab, f, indent=4, ensure_ascii=True)"
   ],
   "outputs": [],
   "metadata": {}
  },
  {
   "cell_type": "code",
   "execution_count": 6,
   "source": [
    "data = pd.read_csv(\"E:\\Datasets\\ASR-dataset\\ASRDataset.csv\")\r\n",
    "data"
   ],
   "outputs": [
    {
     "output_type": "execute_result",
     "data": {
      "text/html": [
       "<div>\n",
       "<style scoped>\n",
       "    .dataframe tbody tr th:only-of-type {\n",
       "        vertical-align: middle;\n",
       "    }\n",
       "\n",
       "    .dataframe tbody tr th {\n",
       "        vertical-align: top;\n",
       "    }\n",
       "\n",
       "    .dataframe thead th {\n",
       "        text-align: right;\n",
       "    }\n",
       "</style>\n",
       "<table border=\"1\" class=\"dataframe\">\n",
       "  <thead>\n",
       "    <tr style=\"text-align: right;\">\n",
       "      <th></th>\n",
       "      <th>path</th>\n",
       "      <th>sentence</th>\n",
       "      <th>corpus</th>\n",
       "      <th>romaji</th>\n",
       "      <th>length</th>\n",
       "    </tr>\n",
       "  </thead>\n",
       "  <tbody>\n",
       "    <tr>\n",
       "      <th>0</th>\n",
       "      <td>BASIC5000_0896.wav</td>\n",
       "      <td>ポル は 目 を 手 で 覆い ながら 立っ て い た</td>\n",
       "      <td>jsut</td>\n",
       "      <td>poru wa me wo te de ooinagara tatte ita</td>\n",
       "      <td>48000</td>\n",
       "    </tr>\n",
       "    <tr>\n",
       "      <th>1</th>\n",
       "      <td>BASIC5000_4182.wav</td>\n",
       "      <td>太い 尾 の 肉 が 特に 美味 と さ れる</td>\n",
       "      <td>jsut</td>\n",
       "      <td>futoi o no niku ga tokuni bimi to sareru</td>\n",
       "      <td>48000</td>\n",
       "    </tr>\n",
       "    <tr>\n",
       "      <th>2</th>\n",
       "      <td>nowaki-by-soseki-natsume-02203.wav</td>\n",
       "      <td>これ が さいだ と 引き合わ せる</td>\n",
       "      <td>kokoro</td>\n",
       "      <td>kore ga saida to hikiawaseru</td>\n",
       "      <td>48112</td>\n",
       "    </tr>\n",
       "    <tr>\n",
       "      <th>3</th>\n",
       "      <td>kusamakura-by-soseki-natsume-02837.wav</td>\n",
       "      <td>趣味 の 何物 たる を も 心得 ぬ</td>\n",
       "      <td>kokoro</td>\n",
       "      <td>shumi no nanimono taru wo mo kokoroenu</td>\n",
       "      <td>48112</td>\n",
       "    </tr>\n",
       "    <tr>\n",
       "      <th>4</th>\n",
       "      <td>eijitsu-syohin-by-soseki-natsume-00116.wav</td>\n",
       "      <td>けれど も それ が なかなか に 動か ない</td>\n",
       "      <td>kokoro</td>\n",
       "      <td>keredo mo sore ga nakanaka ni ugokanai</td>\n",
       "      <td>48112</td>\n",
       "    </tr>\n",
       "    <tr>\n",
       "      <th>...</th>\n",
       "      <td>...</td>\n",
       "      <td>...</td>\n",
       "      <td>...</td>\n",
       "      <td>...</td>\n",
       "      <td>...</td>\n",
       "    </tr>\n",
       "    <tr>\n",
       "      <th>4995</th>\n",
       "      <td>meian-by-soseki-natsume-10482.wav</td>\n",
       "      <td>同時 に それ より はるか 重大 な 主題 の ため に 悩まさ れ て い た</td>\n",
       "      <td>kokoro</td>\n",
       "      <td>douji ni sore yori haruka juudai na shudai no ...</td>\n",
       "      <td>79877</td>\n",
       "    </tr>\n",
       "    <tr>\n",
       "      <th>4996</th>\n",
       "      <td>eijitsu-syohin-by-soseki-natsume-00433.wav</td>\n",
       "      <td>自分 の 部屋 へ 這入っ て 寝 て しまう 母 は よほど 前 に なくなっ た</td>\n",
       "      <td>kokoro</td>\n",
       "      <td>jibun no heya e haitte nete shimau haha wa yoh...</td>\n",
       "      <td>79877</td>\n",
       "    </tr>\n",
       "    <tr>\n",
       "      <th>4997</th>\n",
       "      <td>kouyahijiri-by-kyoka-izumi-00617.wav</td>\n",
       "      <td>と もの と いいかけ て おやじ は 少年 の そば へ にじり寄っ て</td>\n",
       "      <td>kokoro</td>\n",
       "      <td>to mono to iikakete oyaji wa shounen no soba e...</td>\n",
       "      <td>79877</td>\n",
       "    </tr>\n",
       "    <tr>\n",
       "      <th>4998</th>\n",
       "      <td>BASIC5000_1367.wav</td>\n",
       "      <td>鹿児島 に は 一 度 も 行っ た こと が あり ませ ん が 今年 の 夏 行く つも...</td>\n",
       "      <td>jsut</td>\n",
       "      <td>kagoshima ni wa ichi do mo okonatta koto ga ar...</td>\n",
       "      <td>80000</td>\n",
       "    </tr>\n",
       "    <tr>\n",
       "      <th>4999</th>\n",
       "      <td>BASIC5000_3640.wav</td>\n",
       "      <td>逆 に 軟らかい 植物 体 を 作り たい とき は 窒素 を 多用 する と よい</td>\n",
       "      <td>jsut</td>\n",
       "      <td>gyaku ni yawarakai shokubutsu tai wo tsukurita...</td>\n",
       "      <td>80000</td>\n",
       "    </tr>\n",
       "  </tbody>\n",
       "</table>\n",
       "<p>5000 rows × 5 columns</p>\n",
       "</div>"
      ],
      "text/plain": [
       "                                            path  \\\n",
       "0                             BASIC5000_0896.wav   \n",
       "1                             BASIC5000_4182.wav   \n",
       "2             nowaki-by-soseki-natsume-02203.wav   \n",
       "3         kusamakura-by-soseki-natsume-02837.wav   \n",
       "4     eijitsu-syohin-by-soseki-natsume-00116.wav   \n",
       "...                                          ...   \n",
       "4995           meian-by-soseki-natsume-10482.wav   \n",
       "4996  eijitsu-syohin-by-soseki-natsume-00433.wav   \n",
       "4997        kouyahijiri-by-kyoka-izumi-00617.wav   \n",
       "4998                          BASIC5000_1367.wav   \n",
       "4999                          BASIC5000_3640.wav   \n",
       "\n",
       "                                               sentence  corpus  \\\n",
       "0                         ポル は 目 を 手 で 覆い ながら 立っ て い た     jsut   \n",
       "1                              太い 尾 の 肉 が 特に 美味 と さ れる     jsut   \n",
       "2                                   これ が さいだ と 引き合わ せる   kokoro   \n",
       "3                                  趣味 の 何物 たる を も 心得 ぬ   kokoro   \n",
       "4                              けれど も それ が なかなか に 動か ない   kokoro   \n",
       "...                                                 ...     ...   \n",
       "4995         同時 に それ より はるか 重大 な 主題 の ため に 悩まさ れ て い た   kokoro   \n",
       "4996        自分 の 部屋 へ 這入っ て 寝 て しまう 母 は よほど 前 に なくなっ た   kokoro   \n",
       "4997             と もの と いいかけ て おやじ は 少年 の そば へ にじり寄っ て   kokoro   \n",
       "4998  鹿児島 に は 一 度 も 行っ た こと が あり ませ ん が 今年 の 夏 行く つも...    jsut   \n",
       "4999        逆 に 軟らかい 植物 体 を 作り たい とき は 窒素 を 多用 する と よい     jsut   \n",
       "\n",
       "                                                 romaji  length  \n",
       "0               poru wa me wo te de ooinagara tatte ita   48000  \n",
       "1              futoi o no niku ga tokuni bimi to sareru   48000  \n",
       "2                          kore ga saida to hikiawaseru   48112  \n",
       "3                shumi no nanimono taru wo mo kokoroenu   48112  \n",
       "4                keredo mo sore ga nakanaka ni ugokanai   48112  \n",
       "...                                                 ...     ...  \n",
       "4995  douji ni sore yori haruka juudai na shudai no ...   79877  \n",
       "4996  jibun no heya e haitte nete shimau haha wa yoh...   79877  \n",
       "4997  to mono to iikakete oyaji wa shounen no soba e...   79877  \n",
       "4998  kagoshima ni wa ichi do mo okonatta koto ga ar...   80000  \n",
       "4999  gyaku ni yawarakai shokubutsu tai wo tsukurita...   80000  \n",
       "\n",
       "[5000 rows x 5 columns]"
      ]
     },
     "metadata": {},
     "execution_count": 6
    }
   ],
   "metadata": {}
  },
  {
   "cell_type": "code",
   "execution_count": 21,
   "source": [
    "# Tagger\r\n",
    "wakati = MeCab.Tagger(\"-Owakati\")\r\n",
    "\r\n",
    "# idx2hira\r\n",
    "with open(\"D:\\School-stuff\\Sem-2\\PR-Project\\HoloASR\\idx2hira_vocab.json\", \"r\") as f:\r\n",
    "    idx2hira = json.load(f)\r\n",
    "\r\n",
    "# mora2idx\r\n",
    "tokenizer = Wav2Vec2CTCTokenizer(\r\n",
    "    vocab_file=\"D:\\School-stuff\\Sem-2\\PR-Project\\HoloASR\\mora2idx_vocab.json\",\r\n",
    "    word_delimiter_token=\" \",\r\n",
    "    do_lower_case=False,\r\n",
    "    )\r\n",
    "tokenizer"
   ],
   "outputs": [
    {
     "output_type": "execute_result",
     "data": {
      "text/plain": [
       "PreTrainedTokenizer(name_or_path='', vocab_size=110, model_max_len=1000000000000000019884624838656, is_fast=False, padding_side='right', special_tokens={'bos_token': '<s>', 'eos_token': '</s>', 'unk_token': '<unk>', 'pad_token': '<pad>'})"
      ]
     },
     "metadata": {},
     "execution_count": 21
    }
   ],
   "metadata": {}
  }
 ],
 "metadata": {
  "orig_nbformat": 4,
  "language_info": {
   "name": "python",
   "version": "3.8.11",
   "mimetype": "text/x-python",
   "codemirror_mode": {
    "name": "ipython",
    "version": 3
   },
   "pygments_lexer": "ipython3",
   "nbconvert_exporter": "python",
   "file_extension": ".py"
  },
  "kernelspec": {
   "name": "python3",
   "display_name": "Python 3.8.11 64-bit ('tf-gpu': conda)"
  },
  "interpreter": {
   "hash": "b851d2923cfa3a2562599062e05fd9893d86a7c009c64d8ad3756552e4dd5f41"
  }
 },
 "nbformat": 4,
 "nbformat_minor": 2
}